{
  "nbformat": 4,
  "nbformat_minor": 0,
  "metadata": {
    "colab": {
      "provenance": []
    },
    "kernelspec": {
      "name": "python3",
      "display_name": "Python 3"
    },
    "language_info": {
      "name": "python"
    }
  },
  "cells": [
    {
      "cell_type": "code",
      "execution_count": null,
      "metadata": {
        "colab": {
          "base_uri": "https://localhost:8080/"
        },
        "id": "dmBxp7DdXNYp",
        "outputId": "5c9f354c-77cc-46f5-a84b-b23e46ba3c65"
      },
      "outputs": [
        {
          "output_type": "execute_result",
          "data": {
            "text/plain": [
              "1.0"
            ]
          },
          "metadata": {},
          "execution_count": 37
        }
      ],
      "source": [
        "from sklearn.linear_model import Perceptron\n",
        "x=[[0,0],[1,0],[0,1],[1,1]]\n",
        "y=[0,1,1,1]\n",
        "model = Perceptron()\n",
        "model.fit(x,y)\n",
        "model.score(x,y)"
      ]
    },
    {
      "cell_type": "code",
      "source": [
        "x1 = [[-0.5,-0.5],[10,-2],[-1,0.8],[3,5],[1,0.2],[-0.1,0.9]]\n",
        "y1 = model.predict(x1)\n",
        "print(y1)\n",
        "model.score(x1,y1)"
      ],
      "metadata": {
        "colab": {
          "base_uri": "https://localhost:8080/"
        },
        "id": "rabOu4_UZSFM",
        "outputId": "ad831cb1-5c18-4d5b-a886-a83a49feb295"
      },
      "execution_count": null,
      "outputs": [
        {
          "output_type": "stream",
          "name": "stdout",
          "text": [
            "[0 1 0 1 1 1]\n"
          ]
        },
        {
          "output_type": "execute_result",
          "data": {
            "text/plain": [
              "1.0"
            ]
          },
          "metadata": {},
          "execution_count": 38
        }
      ]
    },
    {
      "cell_type": "code",
      "source": [
        "x1 = [[0.5,0],[0,0.5]]\n",
        "y1 = model.predict(x1)\n",
        "print(y1)\n",
        "model.score(x1,y1)"
      ],
      "metadata": {
        "colab": {
          "base_uri": "https://localhost:8080/"
        },
        "id": "DI_zmbZbbPpu",
        "outputId": "855e0e72-643f-4fa6-8ad2-38ae04304a57"
      },
      "execution_count": null,
      "outputs": [
        {
          "output_type": "stream",
          "name": "stdout",
          "text": [
            "[0 0]\n"
          ]
        },
        {
          "output_type": "execute_result",
          "data": {
            "text/plain": [
              "1.0"
            ]
          },
          "metadata": {},
          "execution_count": 39
        }
      ]
    },
    {
      "cell_type": "code",
      "source": [
        "\n",
        "from sklearn import datasets\n",
        "from sklearn.linear_model import Perceptron\n",
        "from sklearn.model_selection import train_test_split\n",
        "from sklearn.metrics import accuracy_score\n",
        "from sklearn.preprocessing import StandardScaler"
      ],
      "metadata": {
        "id": "XJK4BTm8fWre"
      },
      "execution_count": null,
      "outputs": []
    },
    {
      "cell_type": "code",
      "source": [
        "iris=datasets.load_iris()\n",
        "x = iris.data\n",
        "y = iris.target\n",
        "print(x[:5])\n",
        "print(y[:5])\n",
        "x_train,x_test,y_train,y_test=train_test_split(x,y,test_size=0.3)\n",
        "sc=StandardScaler()\n",
        "sc.fit(x_train)\n",
        "x_train_std = sc.transform(x_train)\n",
        "X_test_std = sc.transform(x_test)"
      ],
      "metadata": {
        "colab": {
          "base_uri": "https://localhost:8080/"
        },
        "id": "g1kYxFY0hnht",
        "outputId": "d6d52b0d-f8c0-460c-dfbd-d709787ef875"
      },
      "execution_count": null,
      "outputs": [
        {
          "output_type": "stream",
          "name": "stdout",
          "text": [
            "[[5.1 3.5 1.4 0.2]\n",
            " [4.9 3.  1.4 0.2]\n",
            " [4.7 3.2 1.3 0.2]\n",
            " [4.6 3.1 1.5 0.2]\n",
            " [5.  3.6 1.4 0.2]]\n",
            "[0 0 0 0 0]\n"
          ]
        }
      ]
    },
    {
      "cell_type": "code",
      "source": [
        "\n",
        "import pandas as pd\n",
        "import numpy as np\n",
        "\n",
        "dataframe = pd.read_csv('/content/crabs.csv')\n",
        "dataframe.head()\n",
        "crab_B = dataframe\n",
        "crab_B.sex = crab_B.sex.apply(lambda x: x.replace(\"M\",\"1\"))\n",
        "crab_B.sex = crab_B.sex.apply(lambda x: x.replace(\"F\",\"0\"))\n",
        "print(crab_B)"
      ],
      "metadata": {
        "colab": {
          "base_uri": "https://localhost:8080/"
        },
        "id": "s4MS1_eEv1oc",
        "outputId": "2b74d8f8-d071-4fa8-a73a-92947811f36b"
      },
      "execution_count": null,
      "outputs": [
        {
          "output_type": "stream",
          "name": "stdout",
          "text": [
            "    speies sex  index  fontallip  rearwidth  length  width  depth\n",
            "0        B   1      1        8.1        6.7    16.1   19.0    7.0\n",
            "1        B   1      2        8.8        7.7    18.1   20.8    7.4\n",
            "2        B   1      3        9.2        7.8    19.0   22.4    7.7\n",
            "3        B   1      4        9.6        7.9    20.1   23.1    8.2\n",
            "4        B   1      5        9.8        8.0    20.3   23.0    8.2\n",
            "..     ...  ..    ...        ...        ...     ...    ...    ...\n",
            "195      O   0     46       21.4       18.0    41.2   46.2   18.7\n",
            "196      O   0     47       21.7       17.1    41.7   47.2   19.6\n",
            "197      O   0     48       21.9       17.2    42.6   47.4   19.5\n",
            "198      O   0     49       22.5       17.2    43.0   48.7   19.8\n",
            "199      O   0     50       23.1       20.2    46.2   52.5   21.1\n",
            "\n",
            "[200 rows x 8 columns]\n"
          ]
        }
      ]
    },
    {
      "cell_type": "code",
      "source": [
        "\n",
        "x = crab_B.drop(['speies','sex','index'],axis = 1)\n",
        "print(x)\n",
        "y = crab_B.sex\n",
        "print(y)\n",
        "     "
      ],
      "metadata": {
        "colab": {
          "base_uri": "https://localhost:8080/"
        },
        "id": "R-irGdK7v-31",
        "outputId": "e2ed0586-f0aa-4087-f640-a120acdcdfba"
      },
      "execution_count": null,
      "outputs": [
        {
          "output_type": "stream",
          "name": "stdout",
          "text": [
            "     fontallip  rearwidth  length  width  depth\n",
            "0          8.1        6.7    16.1   19.0    7.0\n",
            "1          8.8        7.7    18.1   20.8    7.4\n",
            "2          9.2        7.8    19.0   22.4    7.7\n",
            "3          9.6        7.9    20.1   23.1    8.2\n",
            "4          9.8        8.0    20.3   23.0    8.2\n",
            "..         ...        ...     ...    ...    ...\n",
            "195       21.4       18.0    41.2   46.2   18.7\n",
            "196       21.7       17.1    41.7   47.2   19.6\n",
            "197       21.9       17.2    42.6   47.4   19.5\n",
            "198       22.5       17.2    43.0   48.7   19.8\n",
            "199       23.1       20.2    46.2   52.5   21.1\n",
            "\n",
            "[200 rows x 5 columns]\n",
            "0      1\n",
            "1      1\n",
            "2      1\n",
            "3      1\n",
            "4      1\n",
            "      ..\n",
            "195    0\n",
            "196    0\n",
            "197    0\n",
            "198    0\n",
            "199    0\n",
            "Name: sex, Length: 200, dtype: object\n"
          ]
        }
      ]
    },
    {
      "cell_type": "code",
      "source": [
        "x_train, x_test, y_train, y_test = train_test_split(x,y,test_size=0.3)\n",
        "sc = StandardScaler()\n",
        "sc.fit(x_train)\n",
        "x_train_std = sc.transform(x_train)\n",
        "x_test_std = sc.transform(x_test)\n",
        "model = Perceptron(max_iter = 100, eta0 = 0.1, random_state = 0)\n",
        "#model: số lần học\n",
        "model.fit(x_train_std, y_train)\n",
        "y_pred = model.predict(x_test_std)\n",
        "print(y_pred)\n",
        "print(y_test)\n",
        "print(\"Độ chính xác của mô hình: \", accuracy_score(y_test, y_pred))"
      ],
      "metadata": {
        "colab": {
          "base_uri": "https://localhost:8080/"
        },
        "id": "d0LjY32rwAQg",
        "outputId": "9a662395-2242-4d18-ee2d-b1c404b29420"
      },
      "execution_count": null,
      "outputs": [
        {
          "output_type": "stream",
          "name": "stdout",
          "text": [
            "['0' '0' '0' '0' '1' '0' '1' '0' '1' '1' '1' '0' '0' '0' '1' '0' '1' '0'\n",
            " '1' '1' '1' '1' '1' '1' '0' '0' '1' '0' '0' '1' '1' '1' '1' '1' '0' '0'\n",
            " '1' '1' '1' '0' '0' '1' '1' '0' '1' '1' '1' '1' '0' '0' '0' '0' '1' '1'\n",
            " '0' '1' '0' '0' '1' '1']\n",
            "187    0\n",
            "64     0\n",
            "150    0\n",
            "192    0\n",
            "148    1\n",
            "196    0\n",
            "146    1\n",
            "93     0\n",
            "37     1\n",
            "8      1\n",
            "0      1\n",
            "98     0\n",
            "55     0\n",
            "73     0\n",
            "152    0\n",
            "167    0\n",
            "5      1\n",
            "174    0\n",
            "26     1\n",
            "48     1\n",
            "116    1\n",
            "11     1\n",
            "135    1\n",
            "47     1\n",
            "89     0\n",
            "88     0\n",
            "140    1\n",
            "188    0\n",
            "195    0\n",
            "110    1\n",
            "126    1\n",
            "50     0\n",
            "119    1\n",
            "103    1\n",
            "194    0\n",
            "170    0\n",
            "101    1\n",
            "138    1\n",
            "25     1\n",
            "153    0\n",
            "90     0\n",
            "17     1\n",
            "13     1\n",
            "169    0\n",
            "127    1\n",
            "147    1\n",
            "124    1\n",
            "44     1\n",
            "199    0\n",
            "154    0\n",
            "56     0\n",
            "157    0\n",
            "117    1\n",
            "108    1\n",
            "86     0\n",
            "137    1\n",
            "160    0\n",
            "87     0\n",
            "133    1\n",
            "38     1\n",
            "Name: sex, dtype: object\n",
            "Độ chính xác của mô hình:  0.9666666666666667\n"
          ]
        }
      ]
    },
    {
      "cell_type": "code",
      "source": [
        "data = pd.read_csv('/content/crabs.csv')\n",
        "data.head()\n",
        "crab=data\n",
        "crab.speies = crab.speies.apply(lambda x: x.replace(\"B\",\"1\"))\n",
        "crab.speies = crab.speies.apply(lambda x: x.replace(\"O\",\"0\"))\n",
        "print(crab)\n",
        "x = crab.drop(['speies','sex','index'],axis = 1)\n",
        "print(x)\n",
        "y = crab.speies\n",
        "print(y)\n",
        "x_train, x_test, y_train, y_test = train_test_split(x,y,test_size=0.3)\n",
        "sc = StandardScaler()\n",
        "sc.fit(x_train)\n",
        "x_train_std = sc.transform(x_train)\n",
        "x_test_std = sc.transform(x_test)\n",
        "model = Perceptron(max_iter = 100, eta0 = 0.1, random_state = 0)\n",
        "#model: số lần học\n",
        "model.fit(x_train_std, y_train)\n",
        "y_pred = model.predict(x_test_std)\n",
        "print(y_pred)\n",
        "print(y_test)\n",
        "print(\"Độ chính xác của mô hình: \", accuracy_score(y_test, y_pred))"
      ],
      "metadata": {
        "colab": {
          "base_uri": "https://localhost:8080/"
        },
        "id": "SGqZ7IXKwLzD",
        "outputId": "bc146b76-536c-49fb-aaac-81e8cdaafedb"
      },
      "execution_count": null,
      "outputs": [
        {
          "output_type": "stream",
          "name": "stdout",
          "text": [
            "    speies sex  index  fontallip  rearwidth  length  width  depth\n",
            "0        1   M      1        8.1        6.7    16.1   19.0    7.0\n",
            "1        1   M      2        8.8        7.7    18.1   20.8    7.4\n",
            "2        1   M      3        9.2        7.8    19.0   22.4    7.7\n",
            "3        1   M      4        9.6        7.9    20.1   23.1    8.2\n",
            "4        1   M      5        9.8        8.0    20.3   23.0    8.2\n",
            "..     ...  ..    ...        ...        ...     ...    ...    ...\n",
            "195      0   F     46       21.4       18.0    41.2   46.2   18.7\n",
            "196      0   F     47       21.7       17.1    41.7   47.2   19.6\n",
            "197      0   F     48       21.9       17.2    42.6   47.4   19.5\n",
            "198      0   F     49       22.5       17.2    43.0   48.7   19.8\n",
            "199      0   F     50       23.1       20.2    46.2   52.5   21.1\n",
            "\n",
            "[200 rows x 8 columns]\n",
            "     fontallip  rearwidth  length  width  depth\n",
            "0          8.1        6.7    16.1   19.0    7.0\n",
            "1          8.8        7.7    18.1   20.8    7.4\n",
            "2          9.2        7.8    19.0   22.4    7.7\n",
            "3          9.6        7.9    20.1   23.1    8.2\n",
            "4          9.8        8.0    20.3   23.0    8.2\n",
            "..         ...        ...     ...    ...    ...\n",
            "195       21.4       18.0    41.2   46.2   18.7\n",
            "196       21.7       17.1    41.7   47.2   19.6\n",
            "197       21.9       17.2    42.6   47.4   19.5\n",
            "198       22.5       17.2    43.0   48.7   19.8\n",
            "199       23.1       20.2    46.2   52.5   21.1\n",
            "\n",
            "[200 rows x 5 columns]\n",
            "0      1\n",
            "1      1\n",
            "2      1\n",
            "3      1\n",
            "4      1\n",
            "      ..\n",
            "195    0\n",
            "196    0\n",
            "197    0\n",
            "198    0\n",
            "199    0\n",
            "Name: speies, Length: 200, dtype: object\n",
            "['1' '1' '0' '1' '0' '1' '1' '1' '0' '1' '1' '0' '1' '1' '0' '0' '1' '0'\n",
            " '0' '0' '1' '0' '0' '1' '1' '1' '0' '1' '1' '0' '1' '1' '0' '1' '1' '0'\n",
            " '0' '0' '0' '1' '1' '1' '0' '1' '0' '1' '0' '1' '1' '0' '0' '1' '0' '0'\n",
            " '0' '0' '1' '0' '1' '0']\n",
            "52     1\n",
            "55     1\n",
            "182    0\n",
            "49     1\n",
            "165    0\n",
            "69     1\n",
            "9      1\n",
            "53     1\n",
            "160    0\n",
            "6      1\n",
            "19     1\n",
            "163    0\n",
            "68     1\n",
            "67     1\n",
            "129    0\n",
            "108    0\n",
            "82     1\n",
            "123    0\n",
            "150    0\n",
            "187    0\n",
            "18     1\n",
            "130    0\n",
            "180    0\n",
            "32     1\n",
            "64     1\n",
            "91     1\n",
            "174    0\n",
            "43     1\n",
            "16     1\n",
            "144    0\n",
            "13     1\n",
            "117    0\n",
            "153    0\n",
            "46     1\n",
            "44     1\n",
            "143    0\n",
            "128    0\n",
            "181    0\n",
            "132    0\n",
            "93     1\n",
            "28     1\n",
            "47     1\n",
            "139    0\n",
            "15     1\n",
            "100    0\n",
            "37     1\n",
            "138    0\n",
            "42     1\n",
            "62     1\n",
            "199    0\n",
            "158    0\n",
            "88     1\n",
            "122    0\n",
            "124    0\n",
            "186    0\n",
            "134    0\n",
            "63     1\n",
            "146    0\n",
            "81     1\n",
            "142    0\n",
            "Name: speies, dtype: object\n",
            "Độ chính xác của mô hình:  0.9833333333333333\n"
          ]
        }
      ]
    }
  ]
}